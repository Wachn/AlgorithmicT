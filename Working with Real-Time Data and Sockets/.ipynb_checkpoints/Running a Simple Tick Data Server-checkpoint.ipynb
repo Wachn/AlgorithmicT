{
 "cells": [
  {
   "cell_type": "markdown",
   "id": "52736960",
   "metadata": {},
   "source": [
    "1.Running a Simple Tick Data Server\n",
    "-----------------------------------------------------\n",
    "Model used for the data generation is the geometric Brownian motion (without dividends) for which an exact Euler discretization is available (see Eq \\ref{eq1})\n",
    "\n",
    "`Euler discretization of geometric Brownian motion`\n",
    "\\begin{align}S_t = S_{t-\\Delta t}exp((r - \\frac{\\sigma^2}{2})\\Delta t + \\sigma\\sqrt{\\Delta t}z) \\label{eq1}\\tag{1}\n",
    "\\end{align}"
   ]
  },
  {
   "cell_type": "code",
   "execution_count": 1,
   "id": "b4994194",
   "metadata": {},
   "outputs": [
    {
     "data": {
      "text/plain": [
       "<SocketContext(bind='tcp://127.0.0.1:5555')>"
      ]
     },
     "execution_count": 1,
     "metadata": {},
     "output_type": "execute_result"
    }
   ],
   "source": [
    "import zmq\n",
    "import math\n",
    "import time\n",
    "import random\n",
    "\n",
    "# Context object is the central object for socket communication\n",
    "context = zmq.Context()\n",
    "# Socket itself is defined based on the PUB socket type(\"Communication pattern\")\n",
    "socket = context.socket(zmq.PUB)\n",
    "# Socket gets bound to the local I address (0.0.0.0 on Linux and Mac OS, 127.0.0.1 on Windows and the port number 5555)\n",
    "socket.bind('tcp://127.0.0.1:5555')"
   ]
  },
  {
   "cell_type": "markdown",
   "id": "2205db01",
   "metadata": {},
   "source": [
    "## InstrumentPrice\n",
    "This class `InstrumentPrice` is for simulation of instrument price values over time. As attributes, there are the major parameters for the geometric Brownian motion in addition to the instrument symbol and the time at which an instance is created. The only method `.simulate_value()` generates new values for the stock price gi en the time passed since it has been called the last time and a random factor."
   ]
  },
  {
   "cell_type": "code",
   "execution_count": 16,
   "id": "503ff337",
   "metadata": {},
   "outputs": [],
   "source": [
    "class InstrumentPrice(object):\n",
    "    def __init__(self):\n",
    "        self.symbol = 'APPL'\n",
    "        # Stores the time of the initialization\n",
    "        self.t = time.time()\n",
    "        self.value = 100.\n",
    "        self.sigma = 0.4\n",
    "        self.r = 0.01\n",
    "    def simulate_value(self):\n",
    "        \"\"\"Generates a new, random stock price.\"\"\"\n",
    "        # Store the current time when simulate_value is called\n",
    "        t = time.time()\n",
    "        # Time interval between the current time and the one stored in self.t in trading (year) fractions\n",
    "        dt = (t-self.t)/ (252*8*60*60) # (days x trading hours x 60 minutes x 60 secs)\n",
    "        # To have larger intrument price movements, this line of code scales the dt variable by an arbitrary factor\n",
    "        dt *= 500\n",
    "        # Updated with current time, to represent the reference point for the next call of the method\n",
    "        self.t = t\n",
    "        # Based on Euler scheme for the geometric Brownian motion, a new instrument price is simulated\n",
    "        self.value *= math.exp((self.r- 0.5* self.sigma **2) * dt + self.sigma * math.sqrt(dt)*random.gauss(0,1))\n",
    "        \n",
    "        return self.value"
   ]
  },
  {
   "cell_type": "markdown",
   "id": "2bd55efd",
   "metadata": {},
   "source": [
    "The main part of the script consists of the instantiation of an object of type `InstrumentPrice` wand an infinite `while` loop. During the `while` loop, a new instrument price gets simulated, and a message is created, printed, and sent via the socket."
   ]
  },
  {
   "cell_type": "code",
   "execution_count": 19,
   "id": "05393c22",
   "metadata": {},
   "outputs": [
    {
     "name": "stdout",
     "output_type": "stream",
     "text": [
      "APPL 100.00\n",
      "APPL 99.96\n",
      "APPL 99.58\n",
      "APPL 100.22\n",
      "APPL 99.48\n",
      "APPL 99.96\n",
      "APPL 100.07\n",
      "APPL 100.51\n",
      "APPL 100.25\n",
      "APPL 100.43\n"
     ]
    }
   ],
   "source": [
    "ip = InstrumentPrice()\n",
    "# Infinite `while` loop\n",
    "count = 0 \n",
    "while True:\n",
    "    # Message text generated based on the symbol attribute and newly simulated stock price value\n",
    "    msg = '{} {:.2f}'.format(ip.symbol, ip.simulate_value())\n",
    "    print(msg)\n",
    "    # Sendt to subscribed sockets\n",
    "    socket.send_string(msg)\n",
    "    # Execution of the loop is paused for a random amount of time (between 0 and 2 seconds), simulating the random arrival of\n",
    "    # new tick data in the market\n",
    "    time.sleep(random.random() * 2)\n",
    "    count+=1\n",
    "    if count==10:\n",
    "        break"
   ]
  },
  {
   "cell_type": "markdown",
   "id": "9e276085",
   "metadata": {},
   "source": [
    "*Cannot be verfied whether the script is also sending the same message via the socket bound to tcp://0.0.0.0:5555 (Windows is tcp://127.0.0.1:5555). To this end, another socket subscribing to the publishing socket is needed to complete the socket pair*\n",
    "\n",
    "* Monte Carlo simulation of prices for financial instruments relies on homogeneous time intervals (like 'one trading day')\n",
    "* In the context of intraday tick data, the random arrival of the data is an important characteristic that neds to be taken into account."
   ]
  },
  {
   "cell_type": "code",
   "execution_count": null,
   "id": "233635fd",
   "metadata": {},
   "outputs": [],
   "source": []
  }
 ],
 "metadata": {
  "kernelspec": {
   "display_name": "Python 3 (ipykernel)",
   "language": "python",
   "name": "python3"
  },
  "language_info": {
   "codemirror_mode": {
    "name": "ipython",
    "version": 3
   },
   "file_extension": ".py",
   "mimetype": "text/x-python",
   "name": "python",
   "nbconvert_exporter": "python",
   "pygments_lexer": "ipython3",
   "version": "3.10.4"
  }
 },
 "nbformat": 4,
 "nbformat_minor": 5
}
